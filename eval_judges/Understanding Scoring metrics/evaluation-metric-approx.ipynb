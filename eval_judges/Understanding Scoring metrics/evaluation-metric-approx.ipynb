{
 "cells": [
  {
   "cell_type": "markdown",
   "id": "fb6ef57b",
   "metadata": {
    "papermill": {
     "duration": 0.004483,
     "end_time": "2024-12-04T05:03:50.211212",
     "exception": false,
     "start_time": "2024-12-04T05:03:50.206729",
     "status": "completed"
    },
    "tags": []
   },
   "source": [
    "<br>\n",
    "<h2 style = \"font-size:60px; font-family:Garamond ; font-weight : normal; background-color: #f6f5f5 ; color : #fe346e; text-align: center; border-radius: 100px 100px;\">Evaluation Metric (Approx)</h2>\n",
    "<br>\n",
    "\n",
    "- LLM-as-a-judge\n",
    "- English Confidence Score\n",
    "- Sequence Similarity Matcher"
   ]
  },
  {
   "cell_type": "markdown",
   "id": "e596c2df",
   "metadata": {
    "papermill": {
     "duration": 0.003323,
     "end_time": "2024-12-04T05:03:50.218270",
     "exception": false,
     "start_time": "2024-12-04T05:03:50.214947",
     "status": "completed"
    },
    "tags": []
   },
   "source": [
    "# <span><h1 style = \"font-family: garamond; font-size: 40px; font-style: normal; letter-spcaing: 3px; background-color: #f6f5f5; color :#fe346e; border-radius: 100px 100px; text-align:center\">LLM-as-a-judge</h1></span>\n",
    "\n",
    "#### This is an attempt to understand the evaluation metric using any 3 open-source LLMs as judge\n",
    "\n",
    "![](https://cdn.prod.website-files.com/64bd90bdba579d6cce245aec/66d3fdd1f10fc3992b6c9d75_66d3fd227a958b870c333da4_llm-judge-metric.png)"
   ]
  },
  {
   "cell_type": "code",
   "execution_count": 1,
   "id": "97621681",
   "metadata": {
    "execution": {
     "iopub.execute_input": "2024-12-04T05:03:50.228092Z",
     "iopub.status.busy": "2024-12-04T05:03:50.227741Z",
     "iopub.status.idle": "2024-12-04T05:03:56.489298Z",
     "shell.execute_reply": "2024-12-04T05:03:56.488389Z"
    },
    "papermill": {
     "duration": 6.268406,
     "end_time": "2024-12-04T05:03:56.491260",
     "exception": false,
     "start_time": "2024-12-04T05:03:50.222854",
     "status": "completed"
    },
    "tags": []
   },
   "outputs": [],
   "source": [
    "import os\n",
    "os.environ[\"TOKENIZERS_PARALLELISM\"] = \"False\"\n",
    "\n",
    "import numpy as np\n",
    "import pandas as pd\n",
    "\n",
    "import torch\n",
    "from transformers import AutoModelForCausalLM, AutoTokenizer\n",
    "\n",
    "import warnings\n",
    "warnings.filterwarnings('ignore')"
   ]
  },
  {
   "cell_type": "code",
   "execution_count": 2,
   "id": "ad5dc420",
   "metadata": {
    "execution": {
     "iopub.execute_input": "2024-12-04T05:03:56.500165Z",
     "iopub.status.busy": "2024-12-04T05:03:56.499707Z",
     "iopub.status.idle": "2024-12-04T05:06:26.751083Z",
     "shell.execute_reply": "2024-12-04T05:06:26.749997Z"
    },
    "papermill": {
     "duration": 150.258333,
     "end_time": "2024-12-04T05:06:26.753410",
     "exception": false,
     "start_time": "2024-12-04T05:03:56.495077",
     "status": "completed"
    },
    "tags": []
   },
   "outputs": [
    {
     "data": {
      "application/vnd.jupyter.widget-view+json": {
       "model_id": "032bdef028b444bf9438529ba36917c0",
       "version_major": 2,
       "version_minor": 0
      },
      "text/plain": [
       "Loading checkpoint shards:   0%|          | 0/2 [00:00<?, ?it/s]"
      ]
     },
     "metadata": {},
     "output_type": "display_data"
    },
    {
     "data": {
      "application/vnd.jupyter.widget-view+json": {
       "model_id": "7eda5730ddfe43419b12e22706e206e0",
       "version_major": 2,
       "version_minor": 0
      },
      "text/plain": [
       "Loading checkpoint shards:   0%|          | 0/2 [00:00<?, ?it/s]"
      ]
     },
     "metadata": {},
     "output_type": "display_data"
    },
    {
     "data": {
      "application/vnd.jupyter.widget-view+json": {
       "model_id": "7eb6e7b340fd415ea1e4ea094211d7b5",
       "version_major": 2,
       "version_minor": 0
      },
      "text/plain": [
       "Loading checkpoint shards:   0%|          | 0/2 [00:00<?, ?it/s]"
      ]
     },
     "metadata": {},
     "output_type": "display_data"
    }
   ],
   "source": [
    "judge_model_list = [\n",
    "    \"/kaggle/input/llama-3.2/transformers/3b-instruct/1\",\n",
    "    \"/kaggle/input/qwen2.5/transformers/3b-instruct/1\",\n",
    "    \"/kaggle/input/gemma-2/transformers/gemma-2-2b-it/2/\",    \n",
    "]\n",
    "\n",
    "models = [AutoModelForCausalLM.from_pretrained(model_name, device_map='auto', torch_dtype=torch.bfloat16) for model_name in judge_model_list]\n",
    "tokenizers = [AutoTokenizer.from_pretrained(model_name) for model_name in judge_model_list]"
   ]
  },
  {
   "cell_type": "code",
   "execution_count": 3,
   "id": "2cfab8c3",
   "metadata": {
    "execution": {
     "iopub.execute_input": "2024-12-04T05:06:26.764595Z",
     "iopub.status.busy": "2024-12-04T05:06:26.764034Z",
     "iopub.status.idle": "2024-12-04T05:06:26.771444Z",
     "shell.execute_reply": "2024-12-04T05:06:26.770520Z"
    },
    "papermill": {
     "duration": 0.01488,
     "end_time": "2024-12-04T05:06:26.773258",
     "exception": false,
     "start_time": "2024-12-04T05:06:26.758378",
     "status": "completed"
    },
    "tags": []
   },
   "outputs": [],
   "source": [
    "def llm_judge(prompt, response, criteria, model, tokenizer):\n",
    "    \"\"\"\n",
    "    Evaluate a list of responses with scores (0-9) using a Hugging Face Transformer model.\n",
    "\n",
    "    Args:\n",
    "        prompt (str): The initial task or question given to the respondents.\n",
    "        response (str): Response to evaluate.\n",
    "        criteria (str): Evaluation criteria to judge the response.\n",
    "        model: Huggingface model to use.\n",
    "        tokenizer: Huggingface tokenizer to use.\n",
    "\n",
    "    Returns:\n",
    "        score: Score for the response.\n",
    "    \"\"\"\n",
    "    # Build the evaluation prompt\n",
    "    evaluation_prompt = f\"\"\"\n",
    "You are an expert judge scoring responses to the following prompt:\n",
    "\n",
    "Prompt: {prompt}\n",
    "\n",
    "Evaluation Criteria: {criteria}\n",
    "\n",
    "Provide a score between 0 and 9 (inclusive) for the response. Do not provide any explanation.\n",
    "\n",
    "Here is the response to evaluate:\n",
    "\"\"\"\n",
    "    evaluation_prompt += f\"\\nResponse: {response}\\nScore:\"\n",
    "\n",
    "    # Tokenize the input\n",
    "    inputs = tokenizer(evaluation_prompt, return_tensors=\"pt\")\n",
    "    inputs = {k: v.to('cuda') for k, v in inputs.items()}\n",
    "\n",
    "    # Generate output\n",
    "    outputs = model.generate(\n",
    "        **inputs,\n",
    "        max_new_tokens=5,\n",
    "        num_return_sequences=1,\n",
    "        temperature=0,\n",
    "        do_sample=False\n",
    "    )\n",
    "\n",
    "    # Decode the output\n",
    "    evaluation_output = tokenizer.decode(outputs[0], skip_special_tokens=True)\n",
    "\n",
    "    try:\n",
    "        score_line = evaluation_output.split(f\"Response:\")[1].split(\"\\nScore:\")[1].strip()\n",
    "        score = float(score_line.split()[0])  # Extract the numeric score\n",
    "    except Exception:\n",
    "        score = 0\n",
    "\n",
    "    return score\n",
    "\n",
    "\n",
    "judging_criteria = \"Clarity, relevance to the topic, and strength of the argument.\""
   ]
  },
  {
   "cell_type": "code",
   "execution_count": 4,
   "id": "d91197cf",
   "metadata": {
    "execution": {
     "iopub.execute_input": "2024-12-04T05:06:26.783313Z",
     "iopub.status.busy": "2024-12-04T05:06:26.783034Z",
     "iopub.status.idle": "2024-12-04T05:06:26.808569Z",
     "shell.execute_reply": "2024-12-04T05:06:26.807533Z"
    },
    "papermill": {
     "duration": 0.032704,
     "end_time": "2024-12-04T05:06:26.810480",
     "exception": false,
     "start_time": "2024-12-04T05:06:26.777776",
     "status": "completed"
    },
    "tags": []
   },
   "outputs": [
    {
     "data": {
      "text/html": [
       "<div>\n",
       "<style scoped>\n",
       "    .dataframe tbody tr th:only-of-type {\n",
       "        vertical-align: middle;\n",
       "    }\n",
       "\n",
       "    .dataframe tbody tr th {\n",
       "        vertical-align: top;\n",
       "    }\n",
       "\n",
       "    .dataframe thead th {\n",
       "        text-align: right;\n",
       "    }\n",
       "</style>\n",
       "<table border=\"1\" class=\"dataframe\">\n",
       "  <thead>\n",
       "    <tr style=\"text-align: right;\">\n",
       "      <th></th>\n",
       "      <th>id</th>\n",
       "      <th>topic</th>\n",
       "      <th>essay</th>\n",
       "    </tr>\n",
       "  </thead>\n",
       "  <tbody>\n",
       "    <tr>\n",
       "      <th>0</th>\n",
       "      <td>1097671</td>\n",
       "      <td>Compare and contrast the importance of self-re...</td>\n",
       "      <td>\\n\\n## The Balancing Act: Self-Reliance vs. Ad...</td>\n",
       "    </tr>\n",
       "    <tr>\n",
       "      <th>1</th>\n",
       "      <td>1726150</td>\n",
       "      <td>Evaluate the effectiveness of management consu...</td>\n",
       "      <td>\\n\\nManagement consulting firms play a crucial...</td>\n",
       "    </tr>\n",
       "    <tr>\n",
       "      <th>2</th>\n",
       "      <td>3211968</td>\n",
       "      <td>Discuss the role of self-reliance in achieving...</td>\n",
       "      <td>\\n\\n## The Architect Within: Self-Reliance as ...</td>\n",
       "    </tr>\n",
       "  </tbody>\n",
       "</table>\n",
       "</div>"
      ],
      "text/plain": [
       "        id                                              topic  \\\n",
       "0  1097671  Compare and contrast the importance of self-re...   \n",
       "1  1726150  Evaluate the effectiveness of management consu...   \n",
       "2  3211968  Discuss the role of self-reliance in achieving...   \n",
       "\n",
       "                                               essay  \n",
       "0  \\n\\n## The Balancing Act: Self-Reliance vs. Ad...  \n",
       "1  \\n\\nManagement consulting firms play a crucial...  \n",
       "2  \\n\\n## The Architect Within: Self-Reliance as ...  "
      ]
     },
     "execution_count": 4,
     "metadata": {},
     "output_type": "execute_result"
    }
   ],
   "source": [
    "submission_df = pd.read_csv(\"/kaggle/input/gemma-2-naive-submission/submission.csv\")\n",
    "submission_df.head()"
   ]
  },
  {
   "cell_type": "code",
   "execution_count": 5,
   "id": "58018820",
   "metadata": {
    "execution": {
     "iopub.execute_input": "2024-12-04T05:06:26.820895Z",
     "iopub.status.busy": "2024-12-04T05:06:26.820618Z",
     "iopub.status.idle": "2024-12-04T05:06:33.969756Z",
     "shell.execute_reply": "2024-12-04T05:06:33.969098Z"
    },
    "papermill": {
     "duration": 7.156478,
     "end_time": "2024-12-04T05:06:33.971748",
     "exception": false,
     "start_time": "2024-12-04T05:06:26.815270",
     "status": "completed"
    },
    "tags": []
   },
   "outputs": [
    {
     "name": "stderr",
     "output_type": "stream",
     "text": [
      "Setting `pad_token_id` to `eos_token_id`:None for open-end generation.\n",
      "Setting `pad_token_id` to `eos_token_id`:None for open-end generation.\n",
      "Setting `pad_token_id` to `eos_token_id`:None for open-end generation.\n"
     ]
    }
   ],
   "source": [
    "avg_qs = []\n",
    "avg_variances = []\n",
    "\n",
    "for i, row in submission_df.iterrows():\n",
    "    task_prompt = f\"Write an essay on the topic {row['topic']}\"\n",
    "    results = [llm_judge(task_prompt, row['essay'], judging_criteria, model, tokenizer) for (model, tokenizer) in zip(models, tokenizers)]\n",
    "    avg_qs.append(np.mean(results))\n",
    "    avg_variances.append(np.var(results))"
   ]
  },
  {
   "cell_type": "code",
   "execution_count": 6,
   "id": "5641872c",
   "metadata": {
    "execution": {
     "iopub.execute_input": "2024-12-04T05:06:33.981665Z",
     "iopub.status.busy": "2024-12-04T05:06:33.981400Z",
     "iopub.status.idle": "2024-12-04T05:06:33.986576Z",
     "shell.execute_reply": "2024-12-04T05:06:33.985922Z"
    },
    "papermill": {
     "duration": 0.011934,
     "end_time": "2024-12-04T05:06:33.988145",
     "exception": false,
     "start_time": "2024-12-04T05:06:33.976211",
     "status": "completed"
    },
    "tags": []
   },
   "outputs": [],
   "source": [
    "submission_df['avg_q'] = avg_qs\n",
    "submission_df['avg_variance'] = avg_variances"
   ]
  },
  {
   "cell_type": "markdown",
   "id": "ab9ddfba",
   "metadata": {
    "papermill": {
     "duration": 0.003865,
     "end_time": "2024-12-04T05:06:33.996090",
     "exception": false,
     "start_time": "2024-12-04T05:06:33.992225",
     "status": "completed"
    },
    "tags": []
   },
   "source": [
    "# <span><h1 style = \"font-family: garamond; font-size: 40px; font-style: normal; letter-spcaing: 3px; background-color: #f6f5f5; color :#fe346e; border-radius: 100px 100px; text-align:center\">English Language Confidence</h1></span>"
   ]
  },
  {
   "cell_type": "code",
   "execution_count": 7,
   "id": "adc007d8",
   "metadata": {
    "execution": {
     "iopub.execute_input": "2024-12-04T05:06:34.005329Z",
     "iopub.status.busy": "2024-12-04T05:06:34.005083Z",
     "iopub.status.idle": "2024-12-04T05:06:45.044495Z",
     "shell.execute_reply": "2024-12-04T05:06:45.043447Z"
    },
    "papermill": {
     "duration": 11.046526,
     "end_time": "2024-12-04T05:06:45.046696",
     "exception": false,
     "start_time": "2024-12-04T05:06:34.000170",
     "status": "completed"
    },
    "tags": []
   },
   "outputs": [
    {
     "name": "stdout",
     "output_type": "stream",
     "text": [
      "Collecting lingua-language-detector\r\n",
      "  Downloading lingua_language_detector-2.0.2-cp310-cp310-manylinux_2_17_x86_64.manylinux2014_x86_64.whl.metadata (349 kB)\r\n",
      "\u001b[2K     \u001b[90m━━━━━━━━━━━━━━━━━━━━━━━━━━━━━━━━━━━━━━━\u001b[0m \u001b[32m349.2/349.2 kB\u001b[0m \u001b[31m7.0 MB/s\u001b[0m eta \u001b[36m0:00:00\u001b[0m\r\n",
      "\u001b[?25hDownloading lingua_language_detector-2.0.2-cp310-cp310-manylinux_2_17_x86_64.manylinux2014_x86_64.whl (74.7 MB)\r\n",
      "\u001b[2K   \u001b[90m━━━━━━━━━━━━━━━━━━━━━━━━━━━━━━━━━━━━━━━━\u001b[0m \u001b[32m74.7/74.7 MB\u001b[0m \u001b[31m23.5 MB/s\u001b[0m eta \u001b[36m0:00:00\u001b[0m\r\n",
      "\u001b[?25hInstalling collected packages: lingua-language-detector\r\n",
      "Successfully installed lingua-language-detector-2.0.2\r\n"
     ]
    }
   ],
   "source": [
    "# Install the lingua-language-detector package\n",
    "!pip install lingua-language-detector\n",
    "\n",
    "# Import necessary modules\n",
    "from lingua import Language, LanguageDetectorBuilder"
   ]
  },
  {
   "cell_type": "code",
   "execution_count": 8,
   "id": "2f6faec1",
   "metadata": {
    "execution": {
     "iopub.execute_input": "2024-12-04T05:06:45.058813Z",
     "iopub.status.busy": "2024-12-04T05:06:45.058509Z",
     "iopub.status.idle": "2024-12-04T05:06:45.062709Z",
     "shell.execute_reply": "2024-12-04T05:06:45.061985Z"
    },
    "papermill": {
     "duration": 0.012158,
     "end_time": "2024-12-04T05:06:45.064381",
     "exception": false,
     "start_time": "2024-12-04T05:06:45.052223",
     "status": "completed"
    },
    "tags": []
   },
   "outputs": [],
   "source": [
    "# Build the language detector\n",
    "detector = LanguageDetectorBuilder.from_all_languages().build()"
   ]
  },
  {
   "cell_type": "code",
   "execution_count": 9,
   "id": "da3af1ac",
   "metadata": {
    "execution": {
     "iopub.execute_input": "2024-12-04T05:06:45.076242Z",
     "iopub.status.busy": "2024-12-04T05:06:45.075598Z",
     "iopub.status.idle": "2024-12-04T05:06:45.491992Z",
     "shell.execute_reply": "2024-12-04T05:06:45.491109Z"
    },
    "papermill": {
     "duration": 0.424005,
     "end_time": "2024-12-04T05:06:45.493600",
     "exception": false,
     "start_time": "2024-12-04T05:06:45.069595",
     "status": "completed"
    },
    "tags": []
   },
   "outputs": [],
   "source": [
    "english_confidence = []\n",
    "\n",
    "for i, row in submission_df.iterrows():\n",
    "    # Compute language confidence values\n",
    "    results = detector.compute_language_confidence_values(row['essay'])\n",
    "    confidence = next((result.value for result in results if result.language == Language.ENGLISH), 0.0)\n",
    "    english_confidence.append(confidence)"
   ]
  },
  {
   "cell_type": "code",
   "execution_count": 10,
   "id": "88ddbbf3",
   "metadata": {
    "execution": {
     "iopub.execute_input": "2024-12-04T05:06:45.505472Z",
     "iopub.status.busy": "2024-12-04T05:06:45.504819Z",
     "iopub.status.idle": "2024-12-04T05:06:45.509325Z",
     "shell.execute_reply": "2024-12-04T05:06:45.508670Z"
    },
    "papermill": {
     "duration": 0.011796,
     "end_time": "2024-12-04T05:06:45.510743",
     "exception": false,
     "start_time": "2024-12-04T05:06:45.498947",
     "status": "completed"
    },
    "tags": []
   },
   "outputs": [],
   "source": [
    "submission_df['avg_e'] = english_confidence"
   ]
  },
  {
   "cell_type": "markdown",
   "id": "192ec570",
   "metadata": {
    "papermill": {
     "duration": 0.005119,
     "end_time": "2024-12-04T05:06:45.520883",
     "exception": false,
     "start_time": "2024-12-04T05:06:45.515764",
     "status": "completed"
    },
    "tags": []
   },
   "source": [
    "# <span><h1 style = \"font-family: garamond; font-size: 40px; font-style: normal; letter-spcaing: 3px; background-color: #f6f5f5; color :#fe346e; border-radius: 100px 100px; text-align:center\">Sequence Similarity Score</h1></span>"
   ]
  },
  {
   "cell_type": "markdown",
   "id": "e0b9b9c8",
   "metadata": {
    "papermill": {
     "duration": 0.00478,
     "end_time": "2024-12-04T05:06:45.531849",
     "exception": false,
     "start_time": "2024-12-04T05:06:45.527069",
     "status": "completed"
    },
    "tags": []
   },
   "source": [
    "#### Based on this [comment](https://www.kaggle.com/competitions/llms-you-cant-please-them-all/discussion/549809#3062886) I assume that sequence similarity refers to similarity between different essays in the test data. Feel free to correct me if this isn't the case"
   ]
  },
  {
   "cell_type": "code",
   "execution_count": 11,
   "id": "8468adb2",
   "metadata": {
    "execution": {
     "iopub.execute_input": "2024-12-04T05:06:45.542845Z",
     "iopub.status.busy": "2024-12-04T05:06:45.542596Z",
     "iopub.status.idle": "2024-12-04T05:06:45.546014Z",
     "shell.execute_reply": "2024-12-04T05:06:45.545383Z"
    },
    "papermill": {
     "duration": 0.010703,
     "end_time": "2024-12-04T05:06:45.547532",
     "exception": false,
     "start_time": "2024-12-04T05:06:45.536829",
     "status": "completed"
    },
    "tags": []
   },
   "outputs": [],
   "source": [
    "import difflib\n",
    "from itertools import combinations"
   ]
  },
  {
   "cell_type": "code",
   "execution_count": 12,
   "id": "49156351",
   "metadata": {
    "execution": {
     "iopub.execute_input": "2024-12-04T05:06:45.558752Z",
     "iopub.status.busy": "2024-12-04T05:06:45.558339Z",
     "iopub.status.idle": "2024-12-04T05:06:45.566046Z",
     "shell.execute_reply": "2024-12-04T05:06:45.565283Z"
    },
    "papermill": {
     "duration": 0.015029,
     "end_time": "2024-12-04T05:06:45.567624",
     "exception": false,
     "start_time": "2024-12-04T05:06:45.552595",
     "status": "completed"
    },
    "tags": []
   },
   "outputs": [],
   "source": [
    "essays = submission_df['essay'].values\n",
    "similarities = [\n",
    "        difflib.SequenceMatcher(a=essay1, b=essay2).ratio() for essay1, essay2 in combinations(essays, 2)\n",
    "    ]\n",
    "avg_s = sum(similarities) / len(similarities)"
   ]
  },
  {
   "cell_type": "code",
   "execution_count": 13,
   "id": "52021b0c",
   "metadata": {
    "execution": {
     "iopub.execute_input": "2024-12-04T05:06:45.578519Z",
     "iopub.status.busy": "2024-12-04T05:06:45.578283Z",
     "iopub.status.idle": "2024-12-04T05:06:45.581674Z",
     "shell.execute_reply": "2024-12-04T05:06:45.580926Z"
    },
    "papermill": {
     "duration": 0.010579,
     "end_time": "2024-12-04T05:06:45.583180",
     "exception": false,
     "start_time": "2024-12-04T05:06:45.572601",
     "status": "completed"
    },
    "tags": []
   },
   "outputs": [],
   "source": [
    "MIN_S = 0.2\n",
    "avg_s_clipped = max(avg_s, MIN_S)"
   ]
  },
  {
   "cell_type": "markdown",
   "id": "0f641329",
   "metadata": {
    "papermill": {
     "duration": 0.004907,
     "end_time": "2024-12-04T05:06:45.593078",
     "exception": false,
     "start_time": "2024-12-04T05:06:45.588171",
     "status": "completed"
    },
    "tags": []
   },
   "source": [
    "# <span><h1 style = \"font-family: garamond; font-size: 40px; font-style: normal; letter-spcaing: 3px; background-color: #f6f5f5; color :#fe346e; border-radius: 100px 100px; text-align:center\">Final Score</h1></span>"
   ]
  },
  {
   "cell_type": "markdown",
   "id": "854b7fcc",
   "metadata": {
    "papermill": {
     "duration": 0.004914,
     "end_time": "2024-12-04T05:06:45.603081",
     "exception": false,
     "start_time": "2024-12-04T05:06:45.598167",
     "status": "completed"
    },
    "tags": []
   },
   "source": [
    "![](https://imgur.com/VRlKKgq.png)"
   ]
  },
  {
   "cell_type": "code",
   "execution_count": 14,
   "id": "da80c94d",
   "metadata": {
    "execution": {
     "iopub.execute_input": "2024-12-04T05:06:45.614509Z",
     "iopub.status.busy": "2024-12-04T05:06:45.613916Z",
     "iopub.status.idle": "2024-12-04T05:06:45.619595Z",
     "shell.execute_reply": "2024-12-04T05:06:45.618908Z"
    },
    "papermill": {
     "duration": 0.012974,
     "end_time": "2024-12-04T05:06:45.621153",
     "exception": false,
     "start_time": "2024-12-04T05:06:45.608179",
     "status": "completed"
    },
    "tags": []
   },
   "outputs": [],
   "source": [
    "MAX_Q = 9\n",
    "final_score = (submission_df['avg_variance'].mean() / (MAX_Q - submission_df['avg_q'].mean())) * (submission_df['avg_e'].mean() / avg_s_clipped)"
   ]
  },
  {
   "cell_type": "code",
   "execution_count": 15,
   "id": "f8009a3b",
   "metadata": {
    "execution": {
     "iopub.execute_input": "2024-12-04T05:06:45.632113Z",
     "iopub.status.busy": "2024-12-04T05:06:45.631863Z",
     "iopub.status.idle": "2024-12-04T05:06:45.636972Z",
     "shell.execute_reply": "2024-12-04T05:06:45.636172Z"
    },
    "papermill": {
     "duration": 0.012357,
     "end_time": "2024-12-04T05:06:45.638489",
     "exception": false,
     "start_time": "2024-12-04T05:06:45.626132",
     "status": "completed"
    },
    "tags": []
   },
   "outputs": [
    {
     "data": {
      "text/plain": [
       "9.10958904109589"
      ]
     },
     "execution_count": 15,
     "metadata": {},
     "output_type": "execute_result"
    }
   ],
   "source": [
    "final_score"
   ]
  },
  {
   "cell_type": "markdown",
   "id": "dedfecfb",
   "metadata": {
    "papermill": {
     "duration": 0.004842,
     "end_time": "2024-12-04T05:06:45.648468",
     "exception": false,
     "start_time": "2024-12-04T05:06:45.643626",
     "status": "completed"
    },
    "tags": []
   },
   "source": [
    "![Upvote!](https://img.shields.io/badge/Upvote-If%20you%20like%20my%20work-07b3c8?style=for-the-badge&logo=kaggle)"
   ]
  }
 ],
 "metadata": {
  "kaggle": {
   "accelerator": "nvidiaTeslaT4",
   "dataSources": [
    {
     "databundleVersionId": 10369658,
     "sourceId": 83035,
     "sourceType": "competition"
    },
    {
     "sourceId": 211084264,
     "sourceType": "kernelVersion"
    },
    {
     "isSourceIdPinned": true,
     "modelId": 76277,
     "modelInstanceId": 72254,
     "sourceId": 104623,
     "sourceType": "modelInstanceVersion"
    },
    {
     "isSourceIdPinned": true,
     "modelId": 121027,
     "modelInstanceId": 100936,
     "sourceId": 120005,
     "sourceType": "modelInstanceVersion"
    },
    {
     "isSourceIdPinned": true,
     "modelId": 164048,
     "modelInstanceId": 141460,
     "sourceId": 166247,
     "sourceType": "modelInstanceVersion"
    }
   ],
   "dockerImageVersionId": 30805,
   "isGpuEnabled": true,
   "isInternetEnabled": true,
   "language": "python",
   "sourceType": "notebook"
  },
  "kernelspec": {
   "display_name": "Python 3",
   "language": "python",
   "name": "python3"
  },
  "language_info": {
   "codemirror_mode": {
    "name": "ipython",
    "version": 3
   },
   "file_extension": ".py",
   "mimetype": "text/x-python",
   "name": "python",
   "nbconvert_exporter": "python",
   "pygments_lexer": "ipython3",
   "version": "3.10.14"
  },
  "papermill": {
   "default_parameters": {},
   "duration": 181.881803,
   "end_time": "2024-12-04T05:06:49.222328",
   "environment_variables": {},
   "exception": null,
   "input_path": "__notebook__.ipynb",
   "output_path": "__notebook__.ipynb",
   "parameters": {},
   "start_time": "2024-12-04T05:03:47.340525",
   "version": "2.6.0"
  },
  "widgets": {
   "application/vnd.jupyter.widget-state+json": {
    "state": {
     "032bdef028b444bf9438529ba36917c0": {
      "model_module": "@jupyter-widgets/controls",
      "model_module_version": "2.0.0",
      "model_name": "HBoxModel",
      "state": {
       "_dom_classes": [],
       "_model_module": "@jupyter-widgets/controls",
       "_model_module_version": "2.0.0",
       "_model_name": "HBoxModel",
       "_view_count": null,
       "_view_module": "@jupyter-widgets/controls",
       "_view_module_version": "2.0.0",
       "_view_name": "HBoxView",
       "box_style": "",
       "children": [
        "IPY_MODEL_e3aadb8f8e754fe1bcacdf3ebe45a289",
        "IPY_MODEL_7f25e4d4afb84adb9af1e4bb8b7dcccd",
        "IPY_MODEL_05180c42305c4b95aca938de872e2c3f"
       ],
       "layout": "IPY_MODEL_8f945b98dbfc4b7983ac160082edbb01",
       "tabbable": null,
       "tooltip": null
      }
     },
     "05180c42305c4b95aca938de872e2c3f": {
      "model_module": "@jupyter-widgets/controls",
      "model_module_version": "2.0.0",
      "model_name": "HTMLModel",
      "state": {
       "_dom_classes": [],
       "_model_module": "@jupyter-widgets/controls",
       "_model_module_version": "2.0.0",
       "_model_name": "HTMLModel",
       "_view_count": null,
       "_view_module": "@jupyter-widgets/controls",
       "_view_module_version": "2.0.0",
       "_view_name": "HTMLView",
       "description": "",
       "description_allow_html": false,
       "layout": "IPY_MODEL_736e53dadda2473f9e9f08510a781b0a",
       "placeholder": "​",
       "style": "IPY_MODEL_e28cc7d53485481288ad55cfa2024b9e",
       "tabbable": null,
       "tooltip": null,
       "value": " 2/2 [00:48&lt;00:00, 21.87s/it]"
      }
     },
     "1fc4cab72a054cbb8a5d4346d165a8ca": {
      "model_module": "@jupyter-widgets/base",
      "model_module_version": "2.0.0",
      "model_name": "LayoutModel",
      "state": {
       "_model_module": "@jupyter-widgets/base",
       "_model_module_version": "2.0.0",
       "_model_name": "LayoutModel",
       "_view_count": null,
       "_view_module": "@jupyter-widgets/base",
       "_view_module_version": "2.0.0",
       "_view_name": "LayoutView",
       "align_content": null,
       "align_items": null,
       "align_self": null,
       "border_bottom": null,
       "border_left": null,
       "border_right": null,
       "border_top": null,
       "bottom": null,
       "display": null,
       "flex": null,
       "flex_flow": null,
       "grid_area": null,
       "grid_auto_columns": null,
       "grid_auto_flow": null,
       "grid_auto_rows": null,
       "grid_column": null,
       "grid_gap": null,
       "grid_row": null,
       "grid_template_areas": null,
       "grid_template_columns": null,
       "grid_template_rows": null,
       "height": null,
       "justify_content": null,
       "justify_items": null,
       "left": null,
       "margin": null,
       "max_height": null,
       "max_width": null,
       "min_height": null,
       "min_width": null,
       "object_fit": null,
       "object_position": null,
       "order": null,
       "overflow": null,
       "padding": null,
       "right": null,
       "top": null,
       "visibility": null,
       "width": null
      }
     },
     "27e82688f6c1488d823bf34906600200": {
      "model_module": "@jupyter-widgets/controls",
      "model_module_version": "2.0.0",
      "model_name": "HTMLModel",
      "state": {
       "_dom_classes": [],
       "_model_module": "@jupyter-widgets/controls",
       "_model_module_version": "2.0.0",
       "_model_name": "HTMLModel",
       "_view_count": null,
       "_view_module": "@jupyter-widgets/controls",
       "_view_module_version": "2.0.0",
       "_view_name": "HTMLView",
       "description": "",
       "description_allow_html": false,
       "layout": "IPY_MODEL_b6c63bdce8ec4080a58a0d4321a1e741",
       "placeholder": "​",
       "style": "IPY_MODEL_3f3ff45d3564470c8a5518f473665d08",
       "tabbable": null,
       "tooltip": null,
       "value": "Loading checkpoint shards: 100%"
      }
     },
     "35f7d4036ae44cdbb752b79348390f3e": {
      "model_module": "@jupyter-widgets/controls",
      "model_module_version": "2.0.0",
      "model_name": "ProgressStyleModel",
      "state": {
       "_model_module": "@jupyter-widgets/controls",
       "_model_module_version": "2.0.0",
       "_model_name": "ProgressStyleModel",
       "_view_count": null,
       "_view_module": "@jupyter-widgets/base",
       "_view_module_version": "2.0.0",
       "_view_name": "StyleView",
       "bar_color": null,
       "description_width": ""
      }
     },
     "3f3ff45d3564470c8a5518f473665d08": {
      "model_module": "@jupyter-widgets/controls",
      "model_module_version": "2.0.0",
      "model_name": "HTMLStyleModel",
      "state": {
       "_model_module": "@jupyter-widgets/controls",
       "_model_module_version": "2.0.0",
       "_model_name": "HTMLStyleModel",
       "_view_count": null,
       "_view_module": "@jupyter-widgets/base",
       "_view_module_version": "2.0.0",
       "_view_name": "StyleView",
       "background": null,
       "description_width": "",
       "font_size": null,
       "text_color": null
      }
     },
     "4227c7e981444e0e83c1dcbe670cf92c": {
      "model_module": "@jupyter-widgets/controls",
      "model_module_version": "2.0.0",
      "model_name": "HTMLStyleModel",
      "state": {
       "_model_module": "@jupyter-widgets/controls",
       "_model_module_version": "2.0.0",
       "_model_name": "HTMLStyleModel",
       "_view_count": null,
       "_view_module": "@jupyter-widgets/base",
       "_view_module_version": "2.0.0",
       "_view_name": "StyleView",
       "background": null,
       "description_width": "",
       "font_size": null,
       "text_color": null
      }
     },
     "5725212129634fdc87459a6c7324d454": {
      "model_module": "@jupyter-widgets/controls",
      "model_module_version": "2.0.0",
      "model_name": "HTMLModel",
      "state": {
       "_dom_classes": [],
       "_model_module": "@jupyter-widgets/controls",
       "_model_module_version": "2.0.0",
       "_model_name": "HTMLModel",
       "_view_count": null,
       "_view_module": "@jupyter-widgets/controls",
       "_view_module_version": "2.0.0",
       "_view_name": "HTMLView",
       "description": "",
       "description_allow_html": false,
       "layout": "IPY_MODEL_d452cea5b33f478392cbece505797ae9",
       "placeholder": "​",
       "style": "IPY_MODEL_97f8e483166e4f65a6cab23a93dca23f",
       "tabbable": null,
       "tooltip": null,
       "value": " 2/2 [00:45&lt;00:00, 21.60s/it]"
      }
     },
     "7261aefdc778499cb55fa0409e6c0fb0": {
      "model_module": "@jupyter-widgets/controls",
      "model_module_version": "2.0.0",
      "model_name": "HTMLModel",
      "state": {
       "_dom_classes": [],
       "_model_module": "@jupyter-widgets/controls",
       "_model_module_version": "2.0.0",
       "_model_name": "HTMLModel",
       "_view_count": null,
       "_view_module": "@jupyter-widgets/controls",
       "_view_module_version": "2.0.0",
       "_view_name": "HTMLView",
       "description": "",
       "description_allow_html": false,
       "layout": "IPY_MODEL_1fc4cab72a054cbb8a5d4346d165a8ca",
       "placeholder": "​",
       "style": "IPY_MODEL_4227c7e981444e0e83c1dcbe670cf92c",
       "tabbable": null,
       "tooltip": null,
       "value": "Loading checkpoint shards: 100%"
      }
     },
     "736e53dadda2473f9e9f08510a781b0a": {
      "model_module": "@jupyter-widgets/base",
      "model_module_version": "2.0.0",
      "model_name": "LayoutModel",
      "state": {
       "_model_module": "@jupyter-widgets/base",
       "_model_module_version": "2.0.0",
       "_model_name": "LayoutModel",
       "_view_count": null,
       "_view_module": "@jupyter-widgets/base",
       "_view_module_version": "2.0.0",
       "_view_name": "LayoutView",
       "align_content": null,
       "align_items": null,
       "align_self": null,
       "border_bottom": null,
       "border_left": null,
       "border_right": null,
       "border_top": null,
       "bottom": null,
       "display": null,
       "flex": null,
       "flex_flow": null,
       "grid_area": null,
       "grid_auto_columns": null,
       "grid_auto_flow": null,
       "grid_auto_rows": null,
       "grid_column": null,
       "grid_gap": null,
       "grid_row": null,
       "grid_template_areas": null,
       "grid_template_columns": null,
       "grid_template_rows": null,
       "height": null,
       "justify_content": null,
       "justify_items": null,
       "left": null,
       "margin": null,
       "max_height": null,
       "max_width": null,
       "min_height": null,
       "min_width": null,
       "object_fit": null,
       "object_position": null,
       "order": null,
       "overflow": null,
       "padding": null,
       "right": null,
       "top": null,
       "visibility": null,
       "width": null
      }
     },
     "78798ce580814283931fdf2de6c830e8": {
      "model_module": "@jupyter-widgets/controls",
      "model_module_version": "2.0.0",
      "model_name": "HTMLStyleModel",
      "state": {
       "_model_module": "@jupyter-widgets/controls",
       "_model_module_version": "2.0.0",
       "_model_name": "HTMLStyleModel",
       "_view_count": null,
       "_view_module": "@jupyter-widgets/base",
       "_view_module_version": "2.0.0",
       "_view_name": "StyleView",
       "background": null,
       "description_width": "",
       "font_size": null,
       "text_color": null
      }
     },
     "7b128339fbdb4c9ea6db632293db4d48": {
      "model_module": "@jupyter-widgets/controls",
      "model_module_version": "2.0.0",
      "model_name": "HTMLStyleModel",
      "state": {
       "_model_module": "@jupyter-widgets/controls",
       "_model_module_version": "2.0.0",
       "_model_name": "HTMLStyleModel",
       "_view_count": null,
       "_view_module": "@jupyter-widgets/base",
       "_view_module_version": "2.0.0",
       "_view_name": "StyleView",
       "background": null,
       "description_width": "",
       "font_size": null,
       "text_color": null
      }
     },
     "7de88c06a1394d15ae9914304f010a5b": {
      "model_module": "@jupyter-widgets/controls",
      "model_module_version": "2.0.0",
      "model_name": "FloatProgressModel",
      "state": {
       "_dom_classes": [],
       "_model_module": "@jupyter-widgets/controls",
       "_model_module_version": "2.0.0",
       "_model_name": "FloatProgressModel",
       "_view_count": null,
       "_view_module": "@jupyter-widgets/controls",
       "_view_module_version": "2.0.0",
       "_view_name": "ProgressView",
       "bar_style": "success",
       "description": "",
       "description_allow_html": false,
       "layout": "IPY_MODEL_bd39f04f5ebc4db79b8f87949a50b422",
       "max": 2.0,
       "min": 0.0,
       "orientation": "horizontal",
       "style": "IPY_MODEL_b249ae7f43b645538917bd160baeee83",
       "tabbable": null,
       "tooltip": null,
       "value": 2.0
      }
     },
     "7eb6e7b340fd415ea1e4ea094211d7b5": {
      "model_module": "@jupyter-widgets/controls",
      "model_module_version": "2.0.0",
      "model_name": "HBoxModel",
      "state": {
       "_dom_classes": [],
       "_model_module": "@jupyter-widgets/controls",
       "_model_module_version": "2.0.0",
       "_model_name": "HBoxModel",
       "_view_count": null,
       "_view_module": "@jupyter-widgets/controls",
       "_view_module_version": "2.0.0",
       "_view_name": "HBoxView",
       "box_style": "",
       "children": [
        "IPY_MODEL_27e82688f6c1488d823bf34906600200",
        "IPY_MODEL_7de88c06a1394d15ae9914304f010a5b",
        "IPY_MODEL_ac9ee151e58c44c49285916217d9c2a6"
       ],
       "layout": "IPY_MODEL_f273bc295b944929adaf7af270ee6c64",
       "tabbable": null,
       "tooltip": null
      }
     },
     "7eda5730ddfe43419b12e22706e206e0": {
      "model_module": "@jupyter-widgets/controls",
      "model_module_version": "2.0.0",
      "model_name": "HBoxModel",
      "state": {
       "_dom_classes": [],
       "_model_module": "@jupyter-widgets/controls",
       "_model_module_version": "2.0.0",
       "_model_name": "HBoxModel",
       "_view_count": null,
       "_view_module": "@jupyter-widgets/controls",
       "_view_module_version": "2.0.0",
       "_view_name": "HBoxView",
       "box_style": "",
       "children": [
        "IPY_MODEL_7261aefdc778499cb55fa0409e6c0fb0",
        "IPY_MODEL_b2828774edc0425fb1297f4e13f03f82",
        "IPY_MODEL_5725212129634fdc87459a6c7324d454"
       ],
       "layout": "IPY_MODEL_e0988eb5f2534973a21c1ffe13559734",
       "tabbable": null,
       "tooltip": null
      }
     },
     "7f25e4d4afb84adb9af1e4bb8b7dcccd": {
      "model_module": "@jupyter-widgets/controls",
      "model_module_version": "2.0.0",
      "model_name": "FloatProgressModel",
      "state": {
       "_dom_classes": [],
       "_model_module": "@jupyter-widgets/controls",
       "_model_module_version": "2.0.0",
       "_model_name": "FloatProgressModel",
       "_view_count": null,
       "_view_module": "@jupyter-widgets/controls",
       "_view_module_version": "2.0.0",
       "_view_name": "ProgressView",
       "bar_style": "success",
       "description": "",
       "description_allow_html": false,
       "layout": "IPY_MODEL_a900b6fefdbc4e50863b1cb4f6a7625d",
       "max": 2.0,
       "min": 0.0,
       "orientation": "horizontal",
       "style": "IPY_MODEL_35f7d4036ae44cdbb752b79348390f3e",
       "tabbable": null,
       "tooltip": null,
       "value": 2.0
      }
     },
     "8f945b98dbfc4b7983ac160082edbb01": {
      "model_module": "@jupyter-widgets/base",
      "model_module_version": "2.0.0",
      "model_name": "LayoutModel",
      "state": {
       "_model_module": "@jupyter-widgets/base",
       "_model_module_version": "2.0.0",
       "_model_name": "LayoutModel",
       "_view_count": null,
       "_view_module": "@jupyter-widgets/base",
       "_view_module_version": "2.0.0",
       "_view_name": "LayoutView",
       "align_content": null,
       "align_items": null,
       "align_self": null,
       "border_bottom": null,
       "border_left": null,
       "border_right": null,
       "border_top": null,
       "bottom": null,
       "display": null,
       "flex": null,
       "flex_flow": null,
       "grid_area": null,
       "grid_auto_columns": null,
       "grid_auto_flow": null,
       "grid_auto_rows": null,
       "grid_column": null,
       "grid_gap": null,
       "grid_row": null,
       "grid_template_areas": null,
       "grid_template_columns": null,
       "grid_template_rows": null,
       "height": null,
       "justify_content": null,
       "justify_items": null,
       "left": null,
       "margin": null,
       "max_height": null,
       "max_width": null,
       "min_height": null,
       "min_width": null,
       "object_fit": null,
       "object_position": null,
       "order": null,
       "overflow": null,
       "padding": null,
       "right": null,
       "top": null,
       "visibility": null,
       "width": null
      }
     },
     "97f8e483166e4f65a6cab23a93dca23f": {
      "model_module": "@jupyter-widgets/controls",
      "model_module_version": "2.0.0",
      "model_name": "HTMLStyleModel",
      "state": {
       "_model_module": "@jupyter-widgets/controls",
       "_model_module_version": "2.0.0",
       "_model_name": "HTMLStyleModel",
       "_view_count": null,
       "_view_module": "@jupyter-widgets/base",
       "_view_module_version": "2.0.0",
       "_view_name": "StyleView",
       "background": null,
       "description_width": "",
       "font_size": null,
       "text_color": null
      }
     },
     "a900b6fefdbc4e50863b1cb4f6a7625d": {
      "model_module": "@jupyter-widgets/base",
      "model_module_version": "2.0.0",
      "model_name": "LayoutModel",
      "state": {
       "_model_module": "@jupyter-widgets/base",
       "_model_module_version": "2.0.0",
       "_model_name": "LayoutModel",
       "_view_count": null,
       "_view_module": "@jupyter-widgets/base",
       "_view_module_version": "2.0.0",
       "_view_name": "LayoutView",
       "align_content": null,
       "align_items": null,
       "align_self": null,
       "border_bottom": null,
       "border_left": null,
       "border_right": null,
       "border_top": null,
       "bottom": null,
       "display": null,
       "flex": null,
       "flex_flow": null,
       "grid_area": null,
       "grid_auto_columns": null,
       "grid_auto_flow": null,
       "grid_auto_rows": null,
       "grid_column": null,
       "grid_gap": null,
       "grid_row": null,
       "grid_template_areas": null,
       "grid_template_columns": null,
       "grid_template_rows": null,
       "height": null,
       "justify_content": null,
       "justify_items": null,
       "left": null,
       "margin": null,
       "max_height": null,
       "max_width": null,
       "min_height": null,
       "min_width": null,
       "object_fit": null,
       "object_position": null,
       "order": null,
       "overflow": null,
       "padding": null,
       "right": null,
       "top": null,
       "visibility": null,
       "width": null
      }
     },
     "ac9ee151e58c44c49285916217d9c2a6": {
      "model_module": "@jupyter-widgets/controls",
      "model_module_version": "2.0.0",
      "model_name": "HTMLModel",
      "state": {
       "_dom_classes": [],
       "_model_module": "@jupyter-widgets/controls",
       "_model_module_version": "2.0.0",
       "_model_name": "HTMLModel",
       "_view_count": null,
       "_view_module": "@jupyter-widgets/controls",
       "_view_module_version": "2.0.0",
       "_view_name": "HTMLView",
       "description": "",
       "description_allow_html": false,
       "layout": "IPY_MODEL_e90b67ceac344e9f94399170d5b70086",
       "placeholder": "​",
       "style": "IPY_MODEL_7b128339fbdb4c9ea6db632293db4d48",
       "tabbable": null,
       "tooltip": null,
       "value": " 2/2 [00:38&lt;00:00, 16.30s/it]"
      }
     },
     "b249ae7f43b645538917bd160baeee83": {
      "model_module": "@jupyter-widgets/controls",
      "model_module_version": "2.0.0",
      "model_name": "ProgressStyleModel",
      "state": {
       "_model_module": "@jupyter-widgets/controls",
       "_model_module_version": "2.0.0",
       "_model_name": "ProgressStyleModel",
       "_view_count": null,
       "_view_module": "@jupyter-widgets/base",
       "_view_module_version": "2.0.0",
       "_view_name": "StyleView",
       "bar_color": null,
       "description_width": ""
      }
     },
     "b2828774edc0425fb1297f4e13f03f82": {
      "model_module": "@jupyter-widgets/controls",
      "model_module_version": "2.0.0",
      "model_name": "FloatProgressModel",
      "state": {
       "_dom_classes": [],
       "_model_module": "@jupyter-widgets/controls",
       "_model_module_version": "2.0.0",
       "_model_name": "FloatProgressModel",
       "_view_count": null,
       "_view_module": "@jupyter-widgets/controls",
       "_view_module_version": "2.0.0",
       "_view_name": "ProgressView",
       "bar_style": "success",
       "description": "",
       "description_allow_html": false,
       "layout": "IPY_MODEL_e4f084523320460d81ebc2f98a9a93ef",
       "max": 2.0,
       "min": 0.0,
       "orientation": "horizontal",
       "style": "IPY_MODEL_dec43107da744da2b519a6cbd049167c",
       "tabbable": null,
       "tooltip": null,
       "value": 2.0
      }
     },
     "b6c63bdce8ec4080a58a0d4321a1e741": {
      "model_module": "@jupyter-widgets/base",
      "model_module_version": "2.0.0",
      "model_name": "LayoutModel",
      "state": {
       "_model_module": "@jupyter-widgets/base",
       "_model_module_version": "2.0.0",
       "_model_name": "LayoutModel",
       "_view_count": null,
       "_view_module": "@jupyter-widgets/base",
       "_view_module_version": "2.0.0",
       "_view_name": "LayoutView",
       "align_content": null,
       "align_items": null,
       "align_self": null,
       "border_bottom": null,
       "border_left": null,
       "border_right": null,
       "border_top": null,
       "bottom": null,
       "display": null,
       "flex": null,
       "flex_flow": null,
       "grid_area": null,
       "grid_auto_columns": null,
       "grid_auto_flow": null,
       "grid_auto_rows": null,
       "grid_column": null,
       "grid_gap": null,
       "grid_row": null,
       "grid_template_areas": null,
       "grid_template_columns": null,
       "grid_template_rows": null,
       "height": null,
       "justify_content": null,
       "justify_items": null,
       "left": null,
       "margin": null,
       "max_height": null,
       "max_width": null,
       "min_height": null,
       "min_width": null,
       "object_fit": null,
       "object_position": null,
       "order": null,
       "overflow": null,
       "padding": null,
       "right": null,
       "top": null,
       "visibility": null,
       "width": null
      }
     },
     "bd39f04f5ebc4db79b8f87949a50b422": {
      "model_module": "@jupyter-widgets/base",
      "model_module_version": "2.0.0",
      "model_name": "LayoutModel",
      "state": {
       "_model_module": "@jupyter-widgets/base",
       "_model_module_version": "2.0.0",
       "_model_name": "LayoutModel",
       "_view_count": null,
       "_view_module": "@jupyter-widgets/base",
       "_view_module_version": "2.0.0",
       "_view_name": "LayoutView",
       "align_content": null,
       "align_items": null,
       "align_self": null,
       "border_bottom": null,
       "border_left": null,
       "border_right": null,
       "border_top": null,
       "bottom": null,
       "display": null,
       "flex": null,
       "flex_flow": null,
       "grid_area": null,
       "grid_auto_columns": null,
       "grid_auto_flow": null,
       "grid_auto_rows": null,
       "grid_column": null,
       "grid_gap": null,
       "grid_row": null,
       "grid_template_areas": null,
       "grid_template_columns": null,
       "grid_template_rows": null,
       "height": null,
       "justify_content": null,
       "justify_items": null,
       "left": null,
       "margin": null,
       "max_height": null,
       "max_width": null,
       "min_height": null,
       "min_width": null,
       "object_fit": null,
       "object_position": null,
       "order": null,
       "overflow": null,
       "padding": null,
       "right": null,
       "top": null,
       "visibility": null,
       "width": null
      }
     },
     "d452cea5b33f478392cbece505797ae9": {
      "model_module": "@jupyter-widgets/base",
      "model_module_version": "2.0.0",
      "model_name": "LayoutModel",
      "state": {
       "_model_module": "@jupyter-widgets/base",
       "_model_module_version": "2.0.0",
       "_model_name": "LayoutModel",
       "_view_count": null,
       "_view_module": "@jupyter-widgets/base",
       "_view_module_version": "2.0.0",
       "_view_name": "LayoutView",
       "align_content": null,
       "align_items": null,
       "align_self": null,
       "border_bottom": null,
       "border_left": null,
       "border_right": null,
       "border_top": null,
       "bottom": null,
       "display": null,
       "flex": null,
       "flex_flow": null,
       "grid_area": null,
       "grid_auto_columns": null,
       "grid_auto_flow": null,
       "grid_auto_rows": null,
       "grid_column": null,
       "grid_gap": null,
       "grid_row": null,
       "grid_template_areas": null,
       "grid_template_columns": null,
       "grid_template_rows": null,
       "height": null,
       "justify_content": null,
       "justify_items": null,
       "left": null,
       "margin": null,
       "max_height": null,
       "max_width": null,
       "min_height": null,
       "min_width": null,
       "object_fit": null,
       "object_position": null,
       "order": null,
       "overflow": null,
       "padding": null,
       "right": null,
       "top": null,
       "visibility": null,
       "width": null
      }
     },
     "dec43107da744da2b519a6cbd049167c": {
      "model_module": "@jupyter-widgets/controls",
      "model_module_version": "2.0.0",
      "model_name": "ProgressStyleModel",
      "state": {
       "_model_module": "@jupyter-widgets/controls",
       "_model_module_version": "2.0.0",
       "_model_name": "ProgressStyleModel",
       "_view_count": null,
       "_view_module": "@jupyter-widgets/base",
       "_view_module_version": "2.0.0",
       "_view_name": "StyleView",
       "bar_color": null,
       "description_width": ""
      }
     },
     "e0988eb5f2534973a21c1ffe13559734": {
      "model_module": "@jupyter-widgets/base",
      "model_module_version": "2.0.0",
      "model_name": "LayoutModel",
      "state": {
       "_model_module": "@jupyter-widgets/base",
       "_model_module_version": "2.0.0",
       "_model_name": "LayoutModel",
       "_view_count": null,
       "_view_module": "@jupyter-widgets/base",
       "_view_module_version": "2.0.0",
       "_view_name": "LayoutView",
       "align_content": null,
       "align_items": null,
       "align_self": null,
       "border_bottom": null,
       "border_left": null,
       "border_right": null,
       "border_top": null,
       "bottom": null,
       "display": null,
       "flex": null,
       "flex_flow": null,
       "grid_area": null,
       "grid_auto_columns": null,
       "grid_auto_flow": null,
       "grid_auto_rows": null,
       "grid_column": null,
       "grid_gap": null,
       "grid_row": null,
       "grid_template_areas": null,
       "grid_template_columns": null,
       "grid_template_rows": null,
       "height": null,
       "justify_content": null,
       "justify_items": null,
       "left": null,
       "margin": null,
       "max_height": null,
       "max_width": null,
       "min_height": null,
       "min_width": null,
       "object_fit": null,
       "object_position": null,
       "order": null,
       "overflow": null,
       "padding": null,
       "right": null,
       "top": null,
       "visibility": null,
       "width": null
      }
     },
     "e28cc7d53485481288ad55cfa2024b9e": {
      "model_module": "@jupyter-widgets/controls",
      "model_module_version": "2.0.0",
      "model_name": "HTMLStyleModel",
      "state": {
       "_model_module": "@jupyter-widgets/controls",
       "_model_module_version": "2.0.0",
       "_model_name": "HTMLStyleModel",
       "_view_count": null,
       "_view_module": "@jupyter-widgets/base",
       "_view_module_version": "2.0.0",
       "_view_name": "StyleView",
       "background": null,
       "description_width": "",
       "font_size": null,
       "text_color": null
      }
     },
     "e3aadb8f8e754fe1bcacdf3ebe45a289": {
      "model_module": "@jupyter-widgets/controls",
      "model_module_version": "2.0.0",
      "model_name": "HTMLModel",
      "state": {
       "_dom_classes": [],
       "_model_module": "@jupyter-widgets/controls",
       "_model_module_version": "2.0.0",
       "_model_name": "HTMLModel",
       "_view_count": null,
       "_view_module": "@jupyter-widgets/controls",
       "_view_module_version": "2.0.0",
       "_view_name": "HTMLView",
       "description": "",
       "description_allow_html": false,
       "layout": "IPY_MODEL_ed225c8b17f0494ca4086f8639115381",
       "placeholder": "​",
       "style": "IPY_MODEL_78798ce580814283931fdf2de6c830e8",
       "tabbable": null,
       "tooltip": null,
       "value": "Loading checkpoint shards: 100%"
      }
     },
     "e4f084523320460d81ebc2f98a9a93ef": {
      "model_module": "@jupyter-widgets/base",
      "model_module_version": "2.0.0",
      "model_name": "LayoutModel",
      "state": {
       "_model_module": "@jupyter-widgets/base",
       "_model_module_version": "2.0.0",
       "_model_name": "LayoutModel",
       "_view_count": null,
       "_view_module": "@jupyter-widgets/base",
       "_view_module_version": "2.0.0",
       "_view_name": "LayoutView",
       "align_content": null,
       "align_items": null,
       "align_self": null,
       "border_bottom": null,
       "border_left": null,
       "border_right": null,
       "border_top": null,
       "bottom": null,
       "display": null,
       "flex": null,
       "flex_flow": null,
       "grid_area": null,
       "grid_auto_columns": null,
       "grid_auto_flow": null,
       "grid_auto_rows": null,
       "grid_column": null,
       "grid_gap": null,
       "grid_row": null,
       "grid_template_areas": null,
       "grid_template_columns": null,
       "grid_template_rows": null,
       "height": null,
       "justify_content": null,
       "justify_items": null,
       "left": null,
       "margin": null,
       "max_height": null,
       "max_width": null,
       "min_height": null,
       "min_width": null,
       "object_fit": null,
       "object_position": null,
       "order": null,
       "overflow": null,
       "padding": null,
       "right": null,
       "top": null,
       "visibility": null,
       "width": null
      }
     },
     "e90b67ceac344e9f94399170d5b70086": {
      "model_module": "@jupyter-widgets/base",
      "model_module_version": "2.0.0",
      "model_name": "LayoutModel",
      "state": {
       "_model_module": "@jupyter-widgets/base",
       "_model_module_version": "2.0.0",
       "_model_name": "LayoutModel",
       "_view_count": null,
       "_view_module": "@jupyter-widgets/base",
       "_view_module_version": "2.0.0",
       "_view_name": "LayoutView",
       "align_content": null,
       "align_items": null,
       "align_self": null,
       "border_bottom": null,
       "border_left": null,
       "border_right": null,
       "border_top": null,
       "bottom": null,
       "display": null,
       "flex": null,
       "flex_flow": null,
       "grid_area": null,
       "grid_auto_columns": null,
       "grid_auto_flow": null,
       "grid_auto_rows": null,
       "grid_column": null,
       "grid_gap": null,
       "grid_row": null,
       "grid_template_areas": null,
       "grid_template_columns": null,
       "grid_template_rows": null,
       "height": null,
       "justify_content": null,
       "justify_items": null,
       "left": null,
       "margin": null,
       "max_height": null,
       "max_width": null,
       "min_height": null,
       "min_width": null,
       "object_fit": null,
       "object_position": null,
       "order": null,
       "overflow": null,
       "padding": null,
       "right": null,
       "top": null,
       "visibility": null,
       "width": null
      }
     },
     "ed225c8b17f0494ca4086f8639115381": {
      "model_module": "@jupyter-widgets/base",
      "model_module_version": "2.0.0",
      "model_name": "LayoutModel",
      "state": {
       "_model_module": "@jupyter-widgets/base",
       "_model_module_version": "2.0.0",
       "_model_name": "LayoutModel",
       "_view_count": null,
       "_view_module": "@jupyter-widgets/base",
       "_view_module_version": "2.0.0",
       "_view_name": "LayoutView",
       "align_content": null,
       "align_items": null,
       "align_self": null,
       "border_bottom": null,
       "border_left": null,
       "border_right": null,
       "border_top": null,
       "bottom": null,
       "display": null,
       "flex": null,
       "flex_flow": null,
       "grid_area": null,
       "grid_auto_columns": null,
       "grid_auto_flow": null,
       "grid_auto_rows": null,
       "grid_column": null,
       "grid_gap": null,
       "grid_row": null,
       "grid_template_areas": null,
       "grid_template_columns": null,
       "grid_template_rows": null,
       "height": null,
       "justify_content": null,
       "justify_items": null,
       "left": null,
       "margin": null,
       "max_height": null,
       "max_width": null,
       "min_height": null,
       "min_width": null,
       "object_fit": null,
       "object_position": null,
       "order": null,
       "overflow": null,
       "padding": null,
       "right": null,
       "top": null,
       "visibility": null,
       "width": null
      }
     },
     "f273bc295b944929adaf7af270ee6c64": {
      "model_module": "@jupyter-widgets/base",
      "model_module_version": "2.0.0",
      "model_name": "LayoutModel",
      "state": {
       "_model_module": "@jupyter-widgets/base",
       "_model_module_version": "2.0.0",
       "_model_name": "LayoutModel",
       "_view_count": null,
       "_view_module": "@jupyter-widgets/base",
       "_view_module_version": "2.0.0",
       "_view_name": "LayoutView",
       "align_content": null,
       "align_items": null,
       "align_self": null,
       "border_bottom": null,
       "border_left": null,
       "border_right": null,
       "border_top": null,
       "bottom": null,
       "display": null,
       "flex": null,
       "flex_flow": null,
       "grid_area": null,
       "grid_auto_columns": null,
       "grid_auto_flow": null,
       "grid_auto_rows": null,
       "grid_column": null,
       "grid_gap": null,
       "grid_row": null,
       "grid_template_areas": null,
       "grid_template_columns": null,
       "grid_template_rows": null,
       "height": null,
       "justify_content": null,
       "justify_items": null,
       "left": null,
       "margin": null,
       "max_height": null,
       "max_width": null,
       "min_height": null,
       "min_width": null,
       "object_fit": null,
       "object_position": null,
       "order": null,
       "overflow": null,
       "padding": null,
       "right": null,
       "top": null,
       "visibility": null,
       "width": null
      }
     }
    },
    "version_major": 2,
    "version_minor": 0
   }
  }
 },
 "nbformat": 4,
 "nbformat_minor": 5
}
