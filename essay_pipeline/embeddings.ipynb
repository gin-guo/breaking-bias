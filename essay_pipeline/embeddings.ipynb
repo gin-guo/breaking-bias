{
 "cells": [
  {
   "cell_type": "markdown",
   "metadata": {},
   "source": [
    "# Word Embeddings\n",
    "\n",
    "Pipeline to generate essays mathemaically using word embedding representations of semantics to create perturbation.\n",
    "\n",
    "\n",
    "Ideas:\n",
    "- add Gaussian noise in word embeddings to shift meaning subtly (target subjective bias of LLMs)\n",
    "- use sentence embeddings to rearrange essay structures randomly (target coherence valuations of LLMs)\n",
    "- find embeddings that changes the ton of content (target persuasiveness)\n",
    "- use topic modeling to shift essay's focus (target topic distribution)"
   ]
  },
  {
   "cell_type": "code",
   "execution_count": 2,
   "metadata": {},
   "outputs": [
    {
     "ename": "ModuleNotFoundError",
     "evalue": "No module named 'pandas'",
     "output_type": "error",
     "traceback": [
      "\u001b[0;31m---------------------------------------------------------------------------\u001b[0m",
      "\u001b[0;31mModuleNotFoundError\u001b[0m                       Traceback (most recent call last)",
      "Cell \u001b[0;32mIn[2], line 1\u001b[0m\n\u001b[0;32m----> 1\u001b[0m \u001b[38;5;28;01mimport\u001b[39;00m\u001b[38;5;250m \u001b[39m\u001b[38;5;21;01mpandas\u001b[39;00m\u001b[38;5;250m \u001b[39m\u001b[38;5;28;01mas\u001b[39;00m\u001b[38;5;250m \u001b[39m\u001b[38;5;21;01mpd\u001b[39;00m\n\u001b[1;32m      2\u001b[0m \u001b[38;5;28;01mimport\u001b[39;00m\u001b[38;5;250m \u001b[39m\u001b[38;5;21;01mnumpy\u001b[39;00m\u001b[38;5;250m \u001b[39m\u001b[38;5;28;01mas\u001b[39;00m\u001b[38;5;250m \u001b[39m\u001b[38;5;21;01mnp\u001b[39;00m\n\u001b[1;32m      3\u001b[0m \u001b[38;5;28;01mimport\u001b[39;00m\u001b[38;5;250m \u001b[39m\u001b[38;5;21;01mnltk\u001b[39;00m\n",
      "\u001b[0;31mModuleNotFoundError\u001b[0m: No module named 'pandas'"
     ]
    }
   ],
   "source": [
    "import pandas as pd\n",
    "import numpy as np\n",
    "import nltk\n",
    "import random\n",
    "from collections import defaultdict\n",
    "from sentence_transformers import SentenceTransformer, util\n",
    "from nltk.tokenize import word_tokenize, sent_tokenize\n",
    "\n",
    "# Download necessary components\n",
    "nltk.download('punkt')\n",
    "\n",
    "# Load pre-trained word embedding model\n",
    "embedding_model = SentenceTransformer('all-MiniLM-L6-v2')\n",
    "\n",
    "# Load CSV file with topics\n",
    "df = pd.read_csv(\"topics.csv\")\n",
    "\n",
    "# Load a corpus to build a Markov model for essay generation\n",
    "with open(\"corpus.txt\", \"r\", encoding=\"utf-8\") as f:\n",
    "    corpus_text = f.read()\n",
    "\n",
    "# Tokenize corpus into sentences and words\n",
    "sentences = sent_tokenize(corpus_text)\n",
    "tokens = [word_tokenize(sent) for sent in sentences]\n",
    "\n",
    "# Build a Markov Chain model\n",
    "markov_model = defaultdict(list)\n",
    "for sentence in tokens:\n",
    "    for i in range(len(sentence) - 1):\n",
    "        markov_model[sentence[i]].append(sentence[i + 1])\n",
    "\n",
    "def generate_essay(topic, word_limit=100):\n",
    "    words = word_tokenize(topic)\n",
    "    essay = words[:]\n",
    "    \n",
    "    for _ in range(word_limit - len(words)):\n",
    "        last_word = essay[-1]\n",
    "        next_word = random.choice(markov_model.get(last_word, [\".\"]))\n",
    "        essay.append(next_word)\n",
    "        if next_word == \".\":\n",
    "            break\n",
    "    \n",
    "    return \" \".join(essay)\n",
    "\n",
    "# Function to add Gaussian noise to word embeddings\n",
    "def add_noise_to_text(text, epsilon=0.05):\n",
    "    words = word_tokenize(text)\n",
    "    word_embeddings = embedding_model.encode(words, convert_to_numpy=True)\n",
    "    \n",
    "    # Apply Gaussian noise\n",
    "    noise = np.random.normal(0, epsilon, word_embeddings.shape)\n",
    "    noisy_embeddings = word_embeddings + noise\n",
    "    \n",
    "    # Find closest words to noisy embeddings\n",
    "    noisy_words = [util.dot_score(noisy_embeddings[i], word_embeddings).argmax() for i in range(len(words))]\n",
    "    \n",
    "    # Reconstruct the noisy text\n",
    "    noisy_text = \" \".join([words[i] if i < len(words) else words[i-1] for i in noisy_words])\n",
    "    return noisy_text\n",
    "\n",
    "# Generate and perturb essays\n",
    "def process_essays(df):\n",
    "    essays = []\n",
    "    noisy_essays = []\n",
    "    \n",
    "    for topic in df['topic']:\n",
    "        essay = generate_essay(topic)\n",
    "        noisy_essay = add_noise_to_text(essay)\n",
    "        essays.append(essay)\n",
    "        noisy_essays.append(noisy_essay)\n",
    "    \n",
    "    df[\"Generated_Essay\"] = essays\n",
    "    df[\"Noisy_Essay\"] = noisy_essays\n",
    "    df.to_csv(\"generated_essays.csv\", index=False)\n",
    "    print(\"Saved essays to generated_essays.csv\")\n",
    "\n",
    "# Run pipeline\n",
    "process_essays(df)\n"
   ]
  }
 ],
 "metadata": {
  "kernelspec": {
   "display_name": "Python 3",
   "language": "python",
   "name": "python3"
  },
  "language_info": {
   "codemirror_mode": {
    "name": "ipython",
    "version": 3
   },
   "file_extension": ".py",
   "mimetype": "text/x-python",
   "name": "python",
   "nbconvert_exporter": "python",
   "pygments_lexer": "ipython3",
   "version": "3.9.6"
  }
 },
 "nbformat": 4,
 "nbformat_minor": 2
}
